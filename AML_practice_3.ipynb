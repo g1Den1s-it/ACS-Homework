{
 "nbformat": 4,
 "nbformat_minor": 0,
 "metadata": {
  "colab": {
   "provenance": []
  },
  "kernelspec": {
   "name": "python3",
   "display_name": "Python 3 (ipykernel)",
   "language": "python"
  },
  "language_info": {
   "name": "python"
  }
 },
 "cells": [
  {
   "cell_type": "markdown",
   "source": [
    "# **Лабораторна робота 3: Прогнозування даних системи Лоренца та об'єктів Нарендра-Пархтізаратхі за допомогою  моделей машинного навчання**\n",
    "**Всі завдання виконуються індивідуально. Використання запозиченого коду буде оцінюватись в 0 балів.**\n",
    "\n",
    "**Лабораторні роботи де в коді буде використаня КИРИЛИЦІ будуть оцінюватись в 20 балів.**"
   ],
   "metadata": {
    "id": "YSxjj4vVNqyC"
   }
  },
  {
   "cell_type": "markdown",
   "source": [
    "#### **Мета роботи:**\n",
    "\n",
    " Робота з даними, згенерованими системою Лоренца та об'єктами Нарендра-Пархтізаратхі, для передбачення майбутніх значеннь за допомогою  моделей машинного навчання.\n",
    "\n",
    "#### **Система Лоренца:**\n",
    "\n",
    "Система Лоренца описується трьома диференціальними рівняннями:\n",
    "\n",
    "$$\n",
    "\\begin{cases}\n",
    "\\frac{dx}{dt} = \\sigma (y - x) \\\\\n",
    "\\frac{dy}{dt} = x (\\rho - z) - y \\\\\n",
    "\\frac{dz}{dt} = xy - \\beta z\n",
    "\\end{cases}\n",
    "$$\n",
    "\n",
    "де:\n",
    "- $( \\sigma )$ — коефіцієнт Прандтля (зазвичай $ \\sigma = 10 $),\n",
    "- $( \\rho )$ — числовий параметр для турбулентності (зазвичай $ \\rho = 28 $),\n",
    "- $( \\beta )$ — коефіцієнт відношення висоти до довжини (зазвичай $ \\beta = 8/3 $).\n",
    "\n",
    "#### **Об'єкти Нарендра-Пархтізаратхі:**\n",
    "\n",
    "Об'єкти Нарендра-Пархтізаратхі описуються наступними рівняннями:\n",
    "\n",
    "$$\n",
    "\\begin{cases}\n",
    "x_1(t+1) = \\alpha_1 x_1(t) + \\beta_1 x_2(t) + \\gamma_1 x_3(t) + \\delta_1 \\\\\n",
    "x_2(t+1) = \\alpha_2 x_1(t) + \\beta_2 x_2(t) + \\gamma_2 x_3(t) + \\delta_2 \\\\\n",
    "x_3(t+1) = \\alpha_3 x_1(t) + \\beta_3 x_2(t) + \\gamma_3 x_3(t) + \\delta_3\n",
    "\\end{cases}\n",
    "$$\n",
    "\n",
    "де $(\\alpha_i)$, $(\\beta_i)$, $(\\gamma_i)$ і $(\\delta_i)$ — коефіцієнти для кожного з рівнянь.\n",
    "\n",
    "#### **Завдання до лабораторної роботи:**\n",
    "\n",
    "Завдання 1. *Генерація даних:*\n",
    "\n",
    "   1.1 Згенеруйте дані для системи Лоренца з використанням зазначених параметрів. Виробіть не менше ніж 10 000 точок даних.\n",
    "\n",
    "   1.2 Згенеруйте дані для об'єктів Нарендра-Пархтізаратхі, використовуючи різні значення коефіцієнтів $(\\alpha_i)$, $(\\beta_i)$, $(\\gamma_i)$ і $(\\delta_i)$. Виробіть не менше ніж 10 000 точок даних.\n",
    "\n",
    "---\n",
    "Завдання 2. *Підготовка даних:*\n",
    "   \n",
    "   2.1 Розділіть дані на навчальний, валідаційний і тестовий набори. Використовуйте 70% для навчання, 15% для валідації та 15% для тестування.\n",
    "   \n",
    "   2.2 Нормалізуйте дані за допомогою StandardScaler. Убедитесь, що всі дані масштабовані перед навчанням моделей.\n",
    "\n",
    "---\n",
    "Завдання 3. *Моделювання:*\n",
    "   \n",
    "   3.1 Застосуйте наступні моделі машинного навчання:\n",
    "     \n",
    "     - Лінійна регресія\n",
    "     - Дерево рішень\n",
    "     - Случайний ліс (Random Forest)\n",
    "     - Метод опорних векторів (SVM)\n",
    "   \n",
    "   3.2 Для кожної моделі виконайте тренування на навчальному наборі даних.\n",
    "\n",
    "---\n",
    "Завдання 4. *Підбір гіперпараметрів:*\n",
    "   \n",
    "   4.1 Для кожної моделі використовуйте Grid Search для підбору оптимальних гіперпараметрів. Параметри для підбору:\n",
    "     \n",
    "     - Лінійна регресія: (не потребує підбору гіперпараметрів, але перевірте регуляризацію)\n",
    "     - Дерево рішень: `max_depth`, `min_samples_split`, `min_samples_leaf`\n",
    "     - Випадковий ліс: `n_estimators`, `max_depth`, `min_samples_split`, `min_samples_leaf`\n",
    "     - SVM: `C`, `kernel`, `gamma`\n",
    "---\n",
    "Завдання 5. *Оцінка моделей:*\n",
    "   \n",
    "   5.1 Оцініть кожну модель на валідаційному наборі за допомогою середньої квадратичної помилки (MSE) та R².\n",
    "  \n",
    "   5.2 Виконайте фінальну оцінку на тестовому наборі даних.\n",
    "\n",
    "---\n",
    "Завдання 6. *Аналіз результатів:*\n",
    "   \n",
    "   6.1 Порівняйте результати всіх моделей. Створіть таблицю з метриками для кожної моделі.\n",
    "\n",
    "   6.2 Візуалізуйте результати прогнозування для кожної моделі (наприклад, графіки реальних значень проти прогнозованих).\n",
    "\n",
    "---\n",
    "Завдання 7. *Документація та звіт:*\n",
    "   \n",
    "   7.1 Опишіть методику генерації даних, моделювання, підбору гіперпараметрів та оцінки моделей.\n",
    "   \n",
    "   7.2 Підготуйте звіт з результатами, включаючи таблиці, графіки та висновки про найкращу модель.\n",
    "\n",
    "---\n",
    "#### **Інструкції:**\n",
    "\n",
    "1. **Генерація даних:**\n",
    "   Використовуйте бібліотеки `numpy` та `scipy` для генерації даних.\n",
    "\n",
    "2. **Навчання моделей:**\n",
    "   Використовуйте `scikit-learn` для реалізації моделей і налаштування гіперпараметрів.\n",
    "\n",
    "3. **Оцінка моделей:**\n",
    "   Використовуйте функції `mean_squared_error`, `r2_score` з `sklearn.metrics` для оцінки.\n",
    "\n",
    "4. **Візуалізація:**\n",
    "   Для візуалізації використовуйте бібліотеки `matplotlib` та `seaborn`.\n",
    "\n",
    "5. **Документація:**\n",
    "   Оформіть звіт у форматі Jupyter Notebook."
   ],
   "metadata": {
    "id": "dQMfGkiCHsqr"
   }
  },
  {
   "cell_type": "markdown",
   "source": [
    "## **Додаткова умова до лабораторної роботи 5:**\n",
    "\n",
    "*Для того, щоб отримати оцінку більше 50 балів, Вам необхідно використати якесь з цих рівнянь. Вибір рівняння вібдувається відповідно до Вашого номеру в журналі групи.*\n",
    "\n",
    "\n",
    "**Об'єкти Нарендра-Партхізаратхі (Narendra-Parthasarathy)** — це нелінійні системи управління, які часто використовуються для тестування адаптивних і нелінійних регуляторів. Їх поведінка моделюється нелінійними диференціальними рівняннями, що описують динаміку в часі. Ці рівняння створюють цікаву, нелінійну та хаотичну поведінку системи.\n",
    "\n",
    "### **Нелінійних рівнянь Нарендра-Партхізаратхі:**\n",
    "\n",
    "1. $$\n",
    "\\dot{x}_1 = -a_1 x_1 + b_1 x_2^2\n",
    "$$\n",
    "$$\n",
    "\\dot{x}_2 = -a_2 x_2 + b_2 \\sin(x_1)\n",
    "$$\n",
    "\n",
    "2. $$\n",
    "\\dot{x}_1 = a_1 \\sin(x_2) - b_1 x_1^2\n",
    "$$\n",
    "$$\n",
    "\\dot{x}_2 = a_2 x_1 x_2 - b_2 \\cos(x_1)\n",
    "$$\n",
    "\n",
    "3. $$\n",
    "\\dot{x}_1 = -a_1 x_1 + b_1 x_2^3\n",
    "$$\n",
    "$$\n",
    "\\dot{x}_2 = a_2 \\sin(x_1) - b_2 x_2\n",
    "$$\n",
    "\n",
    "4. $$\n",
    "\\dot{x}_1 = a_1 x_1 - b_1 x_2 \\sin(x_1)\n",
    "$$\n",
    "$$\n",
    "\\dot{x}_2 = -a_2 x_2 + b_2 \\cos(x_1)\n",
    "$$\n",
    "\n",
    "5. $$\n",
    "\\dot{x}_1 = -a_1 x_1 + b_1 x_2^2 \\cos(x_1)\n",
    "$$\n",
    "$$\n",
    "\\dot{x}_2 = a_2 \\sin(x_1) - b_2 x_1 x_2\n",
    "$$\n",
    "\n",
    "6. $$\n",
    "\\dot{x}_1 = a_1 x_1 x_2 - b_1 x_1^3\n",
    "$$\n",
    "$$\n",
    "\\dot{x}_2 = a_2 \\sin(x_1) - b_2 x_2^2\n",
    "$$\n",
    "\n",
    "7. $$\n",
    "\\dot{x}_1 = -a_1 x_1^2 + b_1 \\cos(x_2)\n",
    "$$\n",
    "$$\n",
    "\\dot{x}_2 = a_2 x_1 - b_2 \\sin(x_2)\n",
    "$$\n",
    "\n",
    "8. $$\n",
    "\\dot{x}_1 = a_1 \\sin(x_2) - b_1 x_1^2\n",
    "$$\n",
    "$$\n",
    "\\dot{x}_2 = -a_2 x_2 + b_2 x_1 \\cos(x_2)\n",
    "$$\n",
    "\n",
    "9. $$\n",
    "\\dot{x}_1 = a_1 x_1^2 - b_1 x_2^2\n",
    "$$\n",
    "$$\n",
    "\\dot{x}_2 = a_2 \\cos(x_1) - b_2 \\sin(x_2)\n",
    "$$\n",
    "\n",
    "10. $$\n",
    "\\dot{x}_1 = -a_1 x_1 \\sin(x_2) + b_1 x_2^3\n",
    "$$\n",
    "$$\n",
    "\\dot{x}_2 = a_2 \\cos(x_1) - b_2 x_1 x_2\n",
    "$$\n",
    "\n",
    "11. $$\n",
    "\\dot{x}_1 = a_1 \\sin(x_1 x_2) - b_1 x_1\n",
    "$$\n",
    "$$\n",
    "\\dot{x}_2 = -a_2 x_2^2 + b_2 \\cos(x_1)\n",
    "$$\n",
    "\n",
    "12. $$\n",
    "\\dot{x}_1 = -a_1 x_1 + b_1 \\sin(x_2^2)\n",
    "$$\n",
    "$$\n",
    "\\dot{x}_2 = a_2 x_1^2 - b_2 \\cos(x_1)\n",
    "$$\n",
    "\n",
    "13. $$\n",
    "\\dot{x}_1 = a_1 x_1 x_2 - b_1 \\sin(x_1^2)\n",
    "$$\n",
    "$$\n",
    "\\dot{x}_2 = -a_2 x_2 + b_2 \\cos(x_1 x_2)\n",
    "$$\n",
    "\n",
    "14. $$\n",
    "\\dot{x}_1 = a_1 x_1 - b_1 x_2^2 \\sin(x_1)\n",
    "$$\n",
    "$$\n",
    "\\dot{x}_2 = a_2 \\cos(x_1) - b_2 x_1^3\n",
    "$$\n",
    "\n",
    "15. $$\n",
    "\\dot{x}_1 = a_1 \\cos(x_2) - b_1 x_1^2 \\sin(x_1)\n",
    "$$\n",
    "$$\n",
    "\\dot{x}_2 = -a_2 x_1 x_2 + b_2 \\cos(x_1^2)\n",
    "$$\n",
    "\n",
    "16. $$\n",
    "\\dot{x}_1 = -a_1 \\sin(x_1) + b_1 x_2^2\n",
    "$$\n",
    "$$\n",
    "\\dot{x}_2 = a_2 \\sin(x_1 x_2) - b_2 \\cos(x_1)\n",
    "$$\n",
    "\n",
    "17. $$\n",
    "\\dot{x}_1 = a_1 x_1^2 \\cos(x_2) - b_1 x_1 x_2\n",
    "$$\n",
    "$$\n",
    "\\dot{x}_2 = -a_2 x_2 + b_2 \\sin(x_1^2)\n",
    "$$\n",
    "\n",
    "18. $$\n",
    "\\dot{x}_1 = -a_1 x_1 \\sin(x_2) + b_1 \\cos(x_1^2)\n",
    "$$\n",
    "$$\n",
    "\\dot{x}_2 = a_2 x_1^2 - b_2 \\cos(x_1 x_2)\n",
    "$$\n",
    "\n",
    "19. $$\n",
    "\\dot{x}_1 = a_1 \\sin(x_2) - b_1 x_1^2\n",
    "$$\n",
    "$$\n",
    "\\dot{x}_2 = a_2 \\cos(x_1) - b_2 x_2^2\n",
    "$$\n",
    "\n",
    "20. $$\n",
    "\\dot{x}_1 = -a_1 x_1^2 + b_1 \\sin(x_1 x_2)\n",
    "$$\n",
    "$$\n",
    "\\dot{x}_2 = a_2 \\cos(x_1) - b_2 \\sin(x_2^2)\n",
    "$$\n",
    "\n",
    "### Параметри:\n",
    "- $( a_1, a_2 )$, $( b_1, b_2 )$ — це коефіцієнти, які можуть бути варійовані для дослідження динаміки системи та впливу на прогнозування."
   ],
   "metadata": {
    "id": "k4nYbsVCg6Cl"
   }
  },
  {
   "cell_type": "code",
   "metadata": {
    "id": "eZ_jQFiqHjwp",
    "ExecuteTime": {
     "end_time": "2025-04-10T21:09:00.957220Z",
     "start_time": "2025-04-10T21:09:00.954603Z"
    }
   },
   "source": [
    "import pandas as pd\n",
    "import numpy as np\n",
    "import matplotlib.pyplot as plt\n",
    "import sklearn\n",
    "import seaborn as sns\n",
    "from sklearn.model_selection import train_test_split\n",
    "from sklearn.preprocessing import StandardScaler\n",
    "from scipy.integrate import solve_ivp"
   ],
   "outputs": [],
   "execution_count": 327
  },
  {
   "metadata": {},
   "cell_type": "markdown",
   "source": "### Завдання 1. *Генерація даних:*"
  },
  {
   "metadata": {
    "ExecuteTime": {
     "end_time": "2025-04-10T21:09:01.005874Z",
     "start_time": "2025-04-10T21:09:01.004122Z"
    }
   },
   "cell_type": "code",
   "source": "",
   "outputs": [],
   "execution_count": null
  },
  {
   "metadata": {
    "ExecuteTime": {
     "end_time": "2025-04-10T21:09:01.158673Z",
     "start_time": "2025-04-10T21:09:01.156355Z"
    }
   },
   "cell_type": "code",
   "source": [
    "sigma = 10.0\n",
    "rho = 28.0\n",
    "beta = 8.0 / 3.0"
   ],
   "outputs": [],
   "execution_count": 328
  },
  {
   "cell_type": "code",
   "source": [
    "def lorenz(t, state):\n",
    "    x, y, z = state\n",
    "    dx = sigma * (y - x)\n",
    "    dy = x * (rho - z) - y\n",
    "    dz = x * y - beta * z\n",
    "    return [dx, dy, dz]"
   ],
   "metadata": {
    "id": "ouS8zTbVNbrh",
    "ExecuteTime": {
     "end_time": "2025-04-10T21:09:01.309721Z",
     "start_time": "2025-04-10T21:09:01.307459Z"
    }
   },
   "outputs": [],
   "execution_count": 329
  },
  {
   "cell_type": "code",
   "source": [
    "t_span = (0, 110)\n",
    "n_points = 11500\n",
    "t_eval = np.linspace(t_span[0], t_span[1], n_points)\n",
    "\n",
    "sol = solve_ivp(lorenz, t_span, [1.0, 1.0, 1.0], t_eval=t_eval)\n",
    "\n",
    "lorenz_x = sol.y[0]\n",
    "lorenz_y = sol.y[1]\n",
    "lorenz_z = sol.y[2]\n",
    "\n",
    "lorenz_data = np.vstack([sol.y[0], sol.y[1], sol.y[2]]).T"
   ],
   "metadata": {
    "id": "82VC6GNgNjiu",
    "ExecuteTime": {
     "end_time": "2025-04-10T21:09:01.596822Z",
     "start_time": "2025-04-10T21:09:01.458587Z"
    }
   },
   "outputs": [],
   "execution_count": 330
  },
  {
   "metadata": {
    "ExecuteTime": {
     "end_time": "2025-04-10T21:09:01.747990Z",
     "start_time": "2025-04-10T21:09:01.745055Z"
    }
   },
   "cell_type": "code",
   "source": "lorenz_data.shape",
   "outputs": [
    {
     "data": {
      "text/plain": [
       "(11500, 3)"
      ]
     },
     "execution_count": 331,
     "metadata": {},
     "output_type": "execute_result"
    }
   ],
   "execution_count": 331
  },
  {
   "metadata": {
    "ExecuteTime": {
     "end_time": "2025-04-10T21:09:02.027970Z",
     "start_time": "2025-04-10T21:09:01.904770Z"
    }
   },
   "cell_type": "code",
   "source": [
    "fig = plt.figure(figsize=(10, 8))\n",
    "ax = fig.add_subplot(111, projection='3d')\n",
    "ax.plot(lorenz_x, lorenz_y, lorenz_z)\n",
    "ax.set_xlabel('X')\n",
    "ax.set_ylabel('Y')\n",
    "ax.set_zlabel('Z')\n",
    "plt.title(\"Lorenz system\")\n",
    "plt.grid()\n",
    "plt.show()"
   ],
   "outputs": [
    {
     "data": {
      "text/plain": [
       "<Figure size 1000x800 with 1 Axes>"
      ],
      "image/png": "[encoded data removed]"
     },
     "metadata": {},
     "output_type": "display_data"
    }
   ],
   "execution_count": 332
  },
  {
   "cell_type": "code",
   "source": [
    "alpha = np.random.uniform(-1, 1, 3)\n",
    "beta = np.random.uniform(-1, 1, 3)\n",
    "gamma = np.random.uniform(-1, 1, 3)\n",
    "delta = np.random.uniform(-10, 10, 3)\n",
    "\n",
    "N = 11500\n",
    "x = np.zeros((N, 3))\n",
    "\n",
    "x[0, :] = np.random.uniform(-10, 10, 3)"
   ],
   "metadata": {
    "id": "Ymd0pctkNlRX",
    "ExecuteTime": {
     "end_time": "2025-04-10T21:09:02.181935Z",
     "start_time": "2025-04-10T21:09:02.179130Z"
    }
   },
   "outputs": [],
   "execution_count": 333
  },
  {
   "cell_type": "code",
   "source": [
    "for t in range(N-1):\n",
    "    x[t + 1, 0] = alpha[0] * x[t, 0] + beta[0] * x[t, 1] + gamma[0] * x[t, 2] + delta[0]\n",
    "    x[t + 1, 1] = alpha[1] * x[t, 0] + beta[1] * x[t, 1] + gamma[1] * x[t, 2] + delta[1]\n",
    "    x[t + 1, 2] = alpha[2] * x[t, 0] + beta[2] * x[t, 1] + gamma[2] * x[t, 2] + delta[2]"
   ],
   "metadata": {
    "id": "zqk_-odlNmAe",
    "ExecuteTime": {
     "end_time": "2025-04-10T21:09:02.367452Z",
     "start_time": "2025-04-10T21:09:02.327139Z"
    }
   },
   "outputs": [],
   "execution_count": 334
  },
  {
   "metadata": {
    "ExecuteTime": {
     "end_time": "2025-04-10T21:09:02.518792Z",
     "start_time": "2025-04-10T21:09:02.515898Z"
    }
   },
   "cell_type": "code",
   "source": [
    "narendra_data = np.vstack([x[:, 0], x[:, 1], x[:, 2]]).T\n",
    "narendra_data.shape"
   ],
   "outputs": [
    {
     "data": {
      "text/plain": [
       "(11500, 3)"
      ]
     },
     "execution_count": 335,
     "metadata": {},
     "output_type": "execute_result"
    }
   ],
   "execution_count": 335
  },
  {
   "metadata": {
    "ExecuteTime": {
     "end_time": "2025-04-10T21:09:02.787Z",
     "start_time": "2025-04-10T21:09:02.668926Z"
    }
   },
   "cell_type": "code",
   "source": [
    "fig = plt.figure(figsize=(10, 8))\n",
    "ax = fig.add_subplot(111, projection='3d')\n",
    "ax.plot(x[:, 0], x[:, 1], x[:, 2])\n",
    "ax.set_xlabel('X')\n",
    "ax.set_ylabel('Y')\n",
    "ax.set_zlabel('Z')\n",
    "plt.title(\"Narendra-Parthasarathy system\")\n",
    "plt.grid()\n",
    "plt.show()\n"
   ],
   "outputs": [
    {
     "data": {
      "text/plain": [
       "<Figure size 1000x800 with 1 Axes>"
      ],
      "image/png": "[encoded data removed]"
     },
     "metadata": {},
     "output_type": "display_data"
    }
   ],
   "execution_count": 336
  },
  {
   "cell_type": "code",
   "source": [
    "a1 = 1.4\n",
    "b1 = 2.0\n",
    "a2 = 2.2\n",
    "b2 = 0.5"
   ],
   "metadata": {
    "id": "Tx8hInVMNmo7",
    "ExecuteTime": {
     "end_time": "2025-04-10T21:09:02.938264Z",
     "start_time": "2025-04-10T21:09:02.936144Z"
    }
   },
   "outputs": [],
   "execution_count": 337
  },
  {
   "cell_type": "code",
   "source": [
    "def f(t, x):\n",
    "    x1, x2 = x\n",
    "    dx1 = -a1 * x1 + b1 * np.sin(x2 ** 2)\n",
    "    dx2 = a2 * x1 ** 2 - b2 * np.cos(x1)\n",
    "    return [dx1, dx2]"
   ],
   "metadata": {
    "id": "OT5yLyrgNnRv",
    "ExecuteTime": {
     "end_time": "2025-04-10T21:09:03.085940Z",
     "start_time": "2025-04-10T21:09:03.083714Z"
    }
   },
   "outputs": [],
   "execution_count": 338
  },
  {
   "metadata": {
    "ExecuteTime": {
     "end_time": "2025-04-10T21:09:03.259875Z",
     "start_time": "2025-04-10T21:09:03.239385Z"
    }
   },
   "cell_type": "code",
   "source": [
    "x0 = [0.7, 0.5]\n",
    "t_span = (0, 100)\n",
    "t_eval = np.linspace(*t_span, 11500)\n",
    "\n",
    "sol = solve_ivp(f, t_span, x0, t_eval=t_eval)"
   ],
   "outputs": [],
   "execution_count": 339
  },
  {
   "metadata": {
    "ExecuteTime": {
     "end_time": "2025-04-10T21:09:03.534652Z",
     "start_time": "2025-04-10T21:09:03.412296Z"
    }
   },
   "cell_type": "code",
   "source": [
    "plt.plot(sol.t, sol.y[0], label='x1(t)')\n",
    "plt.plot(sol.t, sol.y[1], label='x2(t)')\n",
    "plt.xlabel('Time')\n",
    "plt.ylabel('Values')\n",
    "plt.legend()\n",
    "plt.title('Narendra-Parthasarathy system')\n",
    "plt.grid(True)\n",
    "plt.show()"
   ],
   "outputs": [
    {
     "data": {
      "text/plain": [
       "<Figure size 640x480 with 1 Axes>"
      ],
      "image/png": "[encoded data removed]"
     },
     "metadata": {},
     "output_type": "display_data"
    }
   ],
   "execution_count": 340
  },
  {
   "metadata": {},
   "cell_type": "markdown",
   "source": [
    "##  Завдання 2. *Підготовка даних:*\n",
    "\n",
    "### 2.1 Розділіть дані на навчальний, валідаційний і тестовий набори. Використовуйте 70% для навчання, 15% для валідації та 15% для тестування.\n",
    "   \n",
    "   \n"
   ]
  },
  {
   "metadata": {
    "ExecuteTime": {
     "end_time": "2025-04-10T21:09:03.684180Z",
     "start_time": "2025-04-10T21:09:03.681387Z"
    }
   },
   "cell_type": "code",
   "source": [
    "train_lorenz_data, temp_lorenz_data = train_test_split(lorenz_data, test_size=0.30)\n",
    "\n",
    "val_lorenz_data, test_lorenz_data = train_test_split(temp_lorenz_data, test_size=0.5)\n"
   ],
   "outputs": [],
   "execution_count": 341
  },
  {
   "metadata": {
    "ExecuteTime": {
     "end_time": "2025-04-10T21:09:03.833466Z",
     "start_time": "2025-04-10T21:09:03.829778Z"
    }
   },
   "cell_type": "code",
   "source": [
    "print(f\"Train form data: {train_lorenz_data.shape}, mean: {np.mean(train_lorenz_data)}, std: {np.std(train_lorenz_data)}\")\n",
    "print(f\"Validate form data: {val_lorenz_data.shape} mean: {np.mean(val_lorenz_data)}, std: {np.std(val_lorenz_data)}\")\n",
    "print(f\"Test form data: {test_lorenz_data.shape} mean: {np.mean(test_lorenz_data)}, std: {np.std(test_lorenz_data)}\")"
   ],
   "outputs": [
    {
     "name": "stdout",
     "output_type": "stream",
     "text": [
      "Train form data: (8050, 3), mean: 7.349972356973092, std: 14.34251579328808\n",
      "Validate form data: (1725, 3) mean: 7.601813847813871, std: 14.377538963322031\n",
      "Test form data: (1725, 3) mean: 7.1783681427250565, std: 14.42164741016824\n"
     ]
    }
   ],
   "execution_count": 342
  },
  {
   "metadata": {
    "ExecuteTime": {
     "end_time": "2025-04-10T21:09:03.987678Z",
     "start_time": "2025-04-10T21:09:03.984509Z"
    }
   },
   "cell_type": "code",
   "source": [
    "train_narendra_data, temp_narendra_data = train_test_split(narendra_data, test_size=0.30)\n",
    "\n",
    "val_narendra_data, test_narendra_data = train_test_split(temp_narendra_data, test_size=0.5)"
   ],
   "outputs": [],
   "execution_count": 343
  },
  {
   "metadata": {
    "ExecuteTime": {
     "end_time": "2025-04-10T21:09:04.139232Z",
     "start_time": "2025-04-10T21:09:04.133645Z"
    }
   },
   "cell_type": "code",
   "source": [
    "print(f\"Train form data: {train_narendra_data.shape}, mean: {np.mean(train_narendra_data)}, std: {np.std(train_narendra_data)}\")\n",
    "print(f\"Validate form data: {val_narendra_data.shape}, mean: {np.mean(val_narendra_data)}, std: {np.std(val_narendra_data)}\")\n",
    "print(f\"Test form data: { test_narendra_data.shape}, mean: {np.mean(test_narendra_data)}, std: {np.std(test_narendra_data)}\")"
   ],
   "outputs": [
    {
     "name": "stdout",
     "output_type": "stream",
     "text": [
      "Train form data: (8050, 3), mean: 1.212880772567981, std: 3.3271489099268585\n",
      "Validate form data: (1725, 3), mean: 1.2127601416882094, std: 3.3272753299672164\n",
      "Test form data: (1725, 3), mean: 1.2124964616239928, std: 3.326308636144336\n"
     ]
    }
   ],
   "execution_count": 344
  },
  {
   "metadata": {},
   "cell_type": "markdown",
   "source": "### 2.2 Нормалізуйте дані за допомогою StandardScaler. Убедитесь, що всі дані масштабовані перед навчанням моделей."
  },
  {
   "metadata": {
    "ExecuteTime": {
     "end_time": "2025-04-10T21:09:04.290326Z",
     "start_time": "2025-04-10T21:09:04.288162Z"
    }
   },
   "cell_type": "code",
   "source": "scaler = StandardScaler()",
   "outputs": [],
   "execution_count": 345
  },
  {
   "metadata": {
    "ExecuteTime": {
     "end_time": "2025-04-10T21:09:04.442948Z",
     "start_time": "2025-04-10T21:09:04.439328Z"
    }
   },
   "cell_type": "code",
   "source": [
    "train_lorenz_scaled = scaler.fit_transform(train_lorenz_data)\n",
    "\n",
    "val_lorenz_scaled = scaler.transform(val_lorenz_data)\n",
    "test_lorenz_scaled = scaler.transform(test_lorenz_data)"
   ],
   "outputs": [],
   "execution_count": 346
  },
  {
   "metadata": {
    "ExecuteTime": {
     "end_time": "2025-04-10T21:09:04.590642Z",
     "start_time": "2025-04-10T21:09:04.587365Z"
    }
   },
   "cell_type": "code",
   "source": [
    "print(f\"Train shape: {train_lorenz_scaled.shape}, mean: {np.mean(train_lorenz_scaled)}, std: {np.std(train_lorenz_scaled)}\")\n",
    "print(f\"Validate shape: {val_lorenz_scaled.shape}, mean: {np.mean(val_lorenz_scaled)}, std: {np.std(val_lorenz_scaled)}\")\n",
    "print(f\"Test shape: {test_lorenz_scaled.shape}, mean: {np.mean(test_lorenz_scaled)}, std: {np.std(test_lorenz_scaled)}\")"
   ],
   "outputs": [
    {
     "name": "stdout",
     "output_type": "stream",
     "text": [
      "Train shape: (8050, 3), mean: 5.1288534036314974e-15, std: 0.9999999999999996\n",
      "Validate shape: (1725, 3), mean: 0.029609533626639557, std: 0.9863004227058402\n",
      "Test shape: (1725, 3), mean: -0.02028956338176428, std: 0.9969643675421274\n"
     ]
    }
   ],
   "execution_count": 347
  },
  {
   "metadata": {
    "ExecuteTime": {
     "end_time": "2025-04-10T21:09:04.743151Z",
     "start_time": "2025-04-10T21:09:04.739528Z"
    }
   },
   "cell_type": "code",
   "source": [
    "train_narendra_scaled = scaler.fit_transform(train_narendra_data)\n",
    "\n",
    "val_narendra_scaled = scaler.transform(val_narendra_data)\n",
    "test_narendra_scaled = scaler.transform(test_narendra_data)"
   ],
   "outputs": [],
   "execution_count": 348
  },
  {
   "metadata": {
    "ExecuteTime": {
     "end_time": "2025-04-10T21:09:04.893946Z",
     "start_time": "2025-04-10T21:09:04.890599Z"
    }
   },
   "cell_type": "code",
   "source": [
    "print(f\"Train shape: {train_narendra_scaled.shape}, mean: {np.mean(train_narendra_scaled)}, std: {np.std(train_narendra_scaled)}\")\n",
    "print(f\"Validate shape: {val_narendra_scaled.shape}, mean: {np.mean(val_narendra_scaled)}, std: {np.std(val_narendra_scaled)}\")\n",
    "print(f\"Test shape: {test_narendra_scaled.shape}, mean: {np.mean(test_narendra_scaled)}, std: {np.std(test_narendra_scaled)}\")"
   ],
   "outputs": [
    {
     "name": "stdout",
     "output_type": "stream",
     "text": [
      "Train shape: (8050, 3), mean: 5.261159844566865e-12, std: 0.999999999999952\n",
      "Validate shape: (1725, 3), mean: 0.0038683351343586367, std: 0.5408891454392029\n",
      "Test shape: (1725, 3), mean: -0.004513550194462561, std: 0.27454359015064383\n"
     ]
    }
   ],
   "execution_count": 349
  },
  {
   "metadata": {},
   "cell_type": "markdown",
   "source": [
    "### Завдання 3. *Моделювання:*\n",
    "   \n",
    "   #### 3.1 Застосуйте наступні моделі машинного навчання:\n",
    "     \n",
    "     - Лінійна регресія\n",
    "     - Дерево рішень\n",
    "     - Случайний ліс (Random Forest)\n",
    "     - Метод опорних векторів (SVM)\n",
    "   #### 3.2 Для кожної моделі виконайте тренування на навчальному наборі даних.\n",
    "   "
   ]
  },
  {
   "metadata": {
    "ExecuteTime": {
     "end_time": "2025-04-10T21:09:05.044179Z",
     "start_time": "2025-04-10T21:09:05.041877Z"
    }
   },
   "cell_type": "code",
   "source": [
    "from sklearn.linear_model import LinearRegression\n",
    "from sklearn.tree import DecisionTreeRegressor\n",
    "from sklearn.ensemble import RandomForestRegressor\n",
    "from sklearn.svm import SVR\n",
    "from sklearn.metrics import mean_squared_error"
   ],
   "outputs": [],
   "execution_count": 350
  },
  {
   "metadata": {},
   "cell_type": "markdown",
   "source": "### Lorentz"
  },
  {
   "metadata": {
    "ExecuteTime": {
     "end_time": "2025-04-10T21:09:05.198342Z",
     "start_time": "2025-04-10T21:09:05.194890Z"
    }
   },
   "cell_type": "code",
   "source": [
    "report_loranz_list = pd.DataFrame(\n",
    "    index=[\n",
    "        \"Linear Regression\", \"DecisionTree\", \"RandomForest\", \"SVM_X\", \"SVM_Y\", \"SVM_Z\"\n",
    "    ],\n",
    "    columns=[\"MSE\", \"val_MSE\", \"val_R2\", \"test_MSE\", \"test_R2\"]\n",
    ")\n",
    "report_narendra_list = pd.DataFrame(\n",
    "    index=[\n",
    "        \"Linear Regression\", \"DecisionTree\", \"RandomForest\", \"SVM_X\", \"SVM_Y\", \"SVM_Z\"\n",
    "    ],\n",
    "    columns=[\"MSE\", \"val_MSE\", \"val_R2\", \"test_MSE\", \"test_R2\"]\n",
    ")"
   ],
   "outputs": [],
   "execution_count": 351
  },
  {
   "metadata": {
    "ExecuteTime": {
     "end_time": "2025-04-10T21:09:05.345492Z",
     "start_time": "2025-04-10T21:09:05.343345Z"
    }
   },
   "cell_type": "code",
   "source": [
    "train_lorenz_x, train_lorenz_y = train_lorenz_scaled[:-1], train_lorenz_scaled[1:]\n",
    "val_lorenz_x, val_lorenz_y = val_lorenz_scaled[:-1], val_lorenz_scaled[1:]\n",
    "test_lorenz_x, test_lorenz_y = test_lorenz_scaled[:-1], test_lorenz_scaled[1:]"
   ],
   "outputs": [],
   "execution_count": 352
  },
  {
   "metadata": {
    "ExecuteTime": {
     "end_time": "2025-04-10T21:09:05.493336Z",
     "start_time": "2025-04-10T21:09:05.490630Z"
    }
   },
   "cell_type": "code",
   "source": "train_lorenz_x.shape",
   "outputs": [
    {
     "data": {
      "text/plain": [
       "(8049, 3)"
      ]
     },
     "execution_count": 353,
     "metadata": {},
     "output_type": "execute_result"
    }
   ],
   "execution_count": 353
  },
  {
   "metadata": {
    "ExecuteTime": {
     "end_time": "2025-04-10T21:09:05.648899Z",
     "start_time": "2025-04-10T21:09:05.643740Z"
    }
   },
   "cell_type": "code",
   "source": [
    "lr_loranz_model = LinearRegression()\n",
    "lr_loranz_model.fit(train_lorenz_x, train_lorenz_y)\n",
    "lr_val_pred = lr_loranz_model.predict(val_lorenz_x)\n",
    "\n",
    "mse = mean_squared_error(val_lorenz_y, lr_val_pred)\n",
    "\n",
    "report_loranz_list.loc[\"Linear Regression\", \"MSE\"] = mse\n",
    "\n",
    "print(\"MSE: \", mse)"
   ],
   "outputs": [
    {
     "name": "stdout",
     "output_type": "stream",
     "text": [
      "MSE:  0.9727231795390258\n"
     ]
    }
   ],
   "execution_count": 354
  },
  {
   "metadata": {
    "ExecuteTime": {
     "end_time": "2025-04-10T21:09:05.914188Z",
     "start_time": "2025-04-10T21:09:05.794768Z"
    }
   },
   "cell_type": "code",
   "source": [
    "dt_loranz_model = DecisionTreeRegressor(random_state=42)\n",
    "dt_loranz_model.fit(train_lorenz_x, train_lorenz_y)\n",
    "dt_val_pred = dt_loranz_model.predict(val_lorenz_x)\n",
    "\n",
    "mse = mean_squared_error(val_lorenz_y, dt_val_pred)\n",
    "\n",
    "report_loranz_list.loc[\"DecisionTree\", \"MSE\"] = mse\n",
    "\n",
    "print(\"MSE:\", mse)"
   ],
   "outputs": [
    {
     "name": "stdout",
     "output_type": "stream",
     "text": [
      "MSE: 1.961247000894602\n"
     ]
    }
   ],
   "execution_count": 355
  },
  {
   "metadata": {
    "ExecuteTime": {
     "end_time": "2025-04-10T21:09:11.073069Z",
     "start_time": "2025-04-10T21:09:06.062923Z"
    }
   },
   "cell_type": "code",
   "source": [
    "rf_loranz_model = RandomForestRegressor(random_state=42, n_estimators=100)\n",
    "rf_loranz_model.fit(train_lorenz_x, train_lorenz_y)\n",
    "rf_val_pred = rf_loranz_model.predict(val_lorenz_x)\n",
    "\n",
    "mse = mean_squared_error(val_lorenz_y, rf_val_pred)\n",
    "\n",
    "report_loranz_list.loc[\"RandomForest\", \"MSE\"] = mse\n",
    "\n",
    "print(\"MSE:\", mse)"
   ],
   "outputs": [
    {
     "name": "stdout",
     "output_type": "stream",
     "text": [
      "MSE: 1.1135385911543827\n"
     ]
    }
   ],
   "execution_count": 356
  },
  {
   "metadata": {
    "ExecuteTime": {
     "end_time": "2025-04-10T21:09:17.061354Z",
     "start_time": "2025-04-10T21:09:11.234859Z"
    }
   },
   "cell_type": "code",
   "source": [
    "svm_loranz_model_x = SVR()\n",
    "svm_loranz_model_x.fit(train_lorenz_x, train_lorenz_y[:, 0])\n",
    "svm_val_pred = svm_loranz_model_x.predict(val_lorenz_x)\n",
    "\n",
    "mse = mean_squared_error(val_lorenz_y[:, 0], svm_val_pred)\n",
    "\n",
    "report_loranz_list.loc[\"SVM_X\", \"MSE\"] = mse\n",
    "\n",
    "print(\"MSE X:\", mse)\n",
    "\n",
    "svm_loranz_model_y = SVR()\n",
    "svm_loranz_model_y.fit(train_lorenz_x, train_lorenz_y[:, 1])\n",
    "svm_val_pred = svm_loranz_model_y.predict(val_lorenz_x)\n",
    "\n",
    "mse = mean_squared_error(val_lorenz_y[:, 1], svm_val_pred)\n",
    "\n",
    "report_loranz_list.loc[\"SVM_Y\", \"MSE\"] = mse\n",
    "\n",
    "print(\"MSE Y:\", mse)\n",
    "\n",
    "\n",
    "svm_loranz_model_z = SVR()\n",
    "svm_loranz_model_z.fit(train_lorenz_x, train_lorenz_y[:, 2])\n",
    "svm_val_pred = svm_loranz_model_z.predict(val_lorenz_x)\n",
    "\n",
    "mse = mean_squared_error(val_lorenz_y[:, 2], svm_val_pred)\n",
    "\n",
    "report_loranz_list.loc[\"SVM_Z\", \"MSE\"] = mse\n",
    "\n",
    "print(\"MSE Z:\", mse)"
   ],
   "outputs": [
    {
     "name": "stdout",
     "output_type": "stream",
     "text": [
      "MSE X: 0.9920696207776508\n",
      "MSE Y: 0.9573077387511263\n",
      "MSE Z: 0.9909756465731308\n"
     ]
    }
   ],
   "execution_count": 357
  },
  {
   "metadata": {},
   "cell_type": "markdown",
   "source": "### Нарендра-Пархтізаратхі"
  },
  {
   "metadata": {
    "ExecuteTime": {
     "end_time": "2025-04-10T21:09:17.211870Z",
     "start_time": "2025-04-10T21:09:17.209517Z"
    }
   },
   "cell_type": "code",
   "source": [
    "train_narendra_x, train_narendra_y = train_narendra_scaled[:-1], train_narendra_scaled[1:]\n",
    "val_narendra_x, val_narendra_y = val_narendra_scaled[:-1], val_narendra_scaled[1:]\n",
    "test_narendra_x, test_narendra_y = test_narendra_scaled[:-1], test_narendra_scaled[1:]"
   ],
   "outputs": [],
   "execution_count": 358
  },
  {
   "metadata": {
    "ExecuteTime": {
     "end_time": "2025-04-10T21:09:17.365507Z",
     "start_time": "2025-04-10T21:09:17.360710Z"
    }
   },
   "cell_type": "code",
   "source": [
    "lr_model_narendra = LinearRegression()\n",
    "lr_model_narendra.fit(train_narendra_x, train_narendra_y)\n",
    "lr_val_pred = lr_model_narendra.predict(val_narendra_x)\n",
    "\n",
    "mse = mean_squared_error(val_narendra_y, lr_val_pred)\n",
    "\n",
    "report_narendra_list.loc[\"Linear Regression\", \"MSE\"] = mse\n",
    "\n",
    "print(\"MSE: \", mse)"
   ],
   "outputs": [
    {
     "name": "stdout",
     "output_type": "stream",
     "text": [
      "MSE:  0.2927459875913338\n"
     ]
    }
   ],
   "execution_count": 359
  },
  {
   "metadata": {
    "ExecuteTime": {
     "end_time": "2025-04-10T21:09:17.523504Z",
     "start_time": "2025-04-10T21:09:17.518706Z"
    }
   },
   "cell_type": "code",
   "source": [
    "dt_model_narendra = DecisionTreeRegressor(random_state=42)\n",
    "dt_model_narendra.fit(train_narendra_x, train_narendra_y)\n",
    "dt_val_pred = dt_model_narendra.predict(val_narendra_x)\n",
    "\n",
    "mse = mean_squared_error(val_narendra_y, dt_val_pred)\n",
    "\n",
    "report_narendra_list.loc[\"DecisionTree\", \"MSE\"] = mse\n",
    "\n",
    "print(\"MSE:\", mse)"
   ],
   "outputs": [
    {
     "name": "stdout",
     "output_type": "stream",
     "text": [
      "MSE: 0.2927472605738123\n"
     ]
    }
   ],
   "execution_count": 360
  },
  {
   "metadata": {
    "ExecuteTime": {
     "end_time": "2025-04-10T21:09:17.820884Z",
     "start_time": "2025-04-10T21:09:17.674693Z"
    }
   },
   "cell_type": "code",
   "source": [
    "rf_model_narendra = RandomForestRegressor(random_state=42, n_estimators=100)\n",
    "rf_model_narendra.fit(train_narendra_x, train_narendra_y)\n",
    "rf_val_pred = rf_model_narendra.predict(val_narendra_x)\n",
    "\n",
    "mse = mean_squared_error(val_narendra_y, rf_val_pred)\n",
    "\n",
    "report_narendra_list.loc[\"RandomForest\", \"MSE\"] = mse\n",
    "\n",
    "print(\"MSE:\", mse)"
   ],
   "outputs": [
    {
     "name": "stdout",
     "output_type": "stream",
     "text": [
      "MSE: 0.29272803429208194\n"
     ]
    }
   ],
   "execution_count": 361
  },
  {
   "metadata": {
    "ExecuteTime": {
     "end_time": "2025-04-10T21:09:18.009327Z",
     "start_time": "2025-04-10T21:09:17.989331Z"
    }
   },
   "cell_type": "code",
   "source": [
    "svm_model_narendra_x = SVR()\n",
    "svm_model_narendra_x.fit(train_narendra_x, train_narendra_y[:, 0])\n",
    "svm_val_pred = svm_model_narendra_x.predict(val_narendra_x)\n",
    "\n",
    "mse = mean_squared_error(val_narendra_y[:, 0], svm_val_pred)\n",
    "\n",
    "report_narendra_list.loc[\"SVM_X\", \"MSE\"] = mse\n",
    "\n",
    "print(\"MSE X:\", mse)\n",
    "\n",
    "svm_model_narendra_y = SVR()\n",
    "svm_model_narendra_y.fit(train_narendra_x, train_narendra_y[:, 1])\n",
    "svm_val_pred = svm_model_narendra_y.predict(val_narendra_x)\n",
    "\n",
    "mse = mean_squared_error(val_narendra_y[:, 1], svm_val_pred)\n",
    "\n",
    "report_narendra_list.loc[\"SVM_Y\", \"MSE\"] = mse\n",
    "\n",
    "print(\"MSE Y:\", mse)\n",
    "\n",
    "svm_model_narendra_z = SVR()\n",
    "svm_model_narendra_z.fit(train_narendra_x, train_narendra_y[:, 2])\n",
    "svm_val_pred = svm_model_narendra_z.predict(val_narendra_x)\n",
    "\n",
    "mse = mean_squared_error(val_narendra_y[:, 2], svm_val_pred)\n",
    "\n",
    "report_narendra_list.loc[\"SVM_Z\", \"MSE\"] = mse\n",
    "\n",
    "print(\"MSE Z:\", mse)"
   ],
   "outputs": [
    {
     "name": "stdout",
     "output_type": "stream",
     "text": [
      "MSE X: 0.01387669998006154\n",
      "MSE Y: 0.7170070645948581\n",
      "MSE Z: 0.17241637580476593\n"
     ]
    }
   ],
   "execution_count": 362
  },
  {
   "metadata": {},
   "cell_type": "markdown",
   "source": [
    "Завдання 4. *Підбір гіперпараметрів:*\n",
    "   \n",
    "   4.1 Для кожної моделі використовуйте Grid Search для підбору оптимальних гіперпараметрів. Параметри для підбору:\n",
    "     \n",
    "     - Лінійна регресія: (не потребує підбору гіперпараметрів, але перевірте регуляризацію)\n",
    "     - Дерево рішень: `max_depth`, `min_samples_split`, `min_samples_leaf`\n",
    "     - Випадковий ліс: `n_estimators`, `max_depth`, `min_samples_split`, `min_samples_leaf`\n",
    "     - SVM: `C`, `kernel`, `gamma`"
   ]
  },
  {
   "metadata": {},
   "cell_type": "markdown",
   "source": "Lorentz\n"
  },
  {
   "metadata": {
    "ExecuteTime": {
     "end_time": "2025-04-10T21:09:18.162858Z",
     "start_time": "2025-04-10T21:09:18.160654Z"
    }
   },
   "cell_type": "code",
   "source": [
    "from sklearn.model_selection import GridSearchCV\n",
    "from sklearn.linear_model import Ridge"
   ],
   "outputs": [],
   "execution_count": 363
  },
  {
   "metadata": {
    "ExecuteTime": {
     "end_time": "2025-04-10T21:09:23.394822Z",
     "start_time": "2025-04-10T21:09:18.310876Z"
    }
   },
   "cell_type": "code",
   "source": [
    "dt_params = {\n",
    "    'max_depth': [3, 5, 10, None],\n",
    "    'min_samples_split': [2, 5, 10],\n",
    "    'min_samples_leaf': [1, 2, 4]\n",
    "}\n",
    "dt_grid = GridSearchCV(DecisionTreeRegressor(random_state=42), dt_params, cv=5, scoring='neg_mean_squared_error')\n",
    "dt_grid.fit(train_lorenz_x, train_lorenz_y)\n",
    "print(\"Best params\", dt_grid.best_params_)"
   ],
   "outputs": [
    {
     "name": "stdout",
     "output_type": "stream",
     "text": [
      "Best params {'max_depth': 3, 'min_samples_leaf': 1, 'min_samples_split': 2}\n"
     ]
    }
   ],
   "execution_count": 364
  },
  {
   "metadata": {
    "ExecuteTime": {
     "end_time": "2025-04-10T21:10:48.553993Z",
     "start_time": "2025-04-10T21:09:23.543755Z"
    }
   },
   "cell_type": "code",
   "source": [
    "rf_params = {\n",
    "    'n_estimators': [50, 100],\n",
    "    'max_depth': [5, 10, None],\n",
    "    'min_samples_split': [2, 5],\n",
    "    'min_samples_leaf': [1, 2]\n",
    "}\n",
    "\n",
    "rf_grid = GridSearchCV(RandomForestRegressor(random_state=42), rf_params, cv=3, scoring='neg_mean_squared_error')\n",
    "rf_grid.fit(train_lorenz_x, train_lorenz_y)\n",
    "print(\"Best params\", rf_grid.best_params_)"
   ],
   "outputs": [
    {
     "name": "stdout",
     "output_type": "stream",
     "text": [
      "Best params {'max_depth': 5, 'min_samples_leaf': 1, 'min_samples_split': 2, 'n_estimators': 100}\n"
     ]
    }
   ],
   "execution_count": 365
  },
  {
   "metadata": {
    "ExecuteTime": {
     "end_time": "2025-04-10T21:12:31.079857Z",
     "start_time": "2025-04-10T21:10:48.699122Z"
    }
   },
   "cell_type": "code",
   "source": [
    "svm_params = {\n",
    "    'C': [0.1, 1, 10],\n",
    "    'kernel': ['rbf', 'linear'],\n",
    "    'gamma': ['scale', 'auto']\n",
    "}\n",
    "\n",
    "svm_grid = GridSearchCV(SVR(), svm_params, cv=3, scoring='neg_mean_squared_error')\n",
    "svm_grid.fit(train_lorenz_x, train_lorenz_y[:, 0])\n",
    "print(\"Best SVM Params X: \", svm_grid.best_params_)\n",
    "\n",
    "svm_grid.fit(train_lorenz_x, train_lorenz_y[:, 1])\n",
    "print(\"Best SVM Params Y: \", svm_grid.best_params_)\n",
    "\n",
    "svm_grid.fit(train_lorenz_x, train_lorenz_y[:, 2])\n",
    "print(\"Best SVM Params Z: \", svm_grid.best_params_)"
   ],
   "outputs": [
    {
     "name": "stdout",
     "output_type": "stream",
     "text": [
      "Best SVM Params X:  {'C': 1, 'gamma': 'scale', 'kernel': 'linear'}\n",
      "Best SVM Params Y:  {'C': 0.1, 'gamma': 'scale', 'kernel': 'linear'}\n",
      "Best SVM Params Z:  {'C': 1, 'gamma': 'scale', 'kernel': 'linear'}\n"
     ]
    }
   ],
   "execution_count": 366
  },
  {
   "metadata": {},
   "cell_type": "markdown",
   "source": "### Нарендра-Пархтізаратхі\n"
  },
  {
   "metadata": {
    "ExecuteTime": {
     "end_time": "2025-04-10T21:12:31.942170Z",
     "start_time": "2025-04-10T21:12:31.224607Z"
    }
   },
   "cell_type": "code",
   "source": [
    "dt_params = {\n",
    "    'max_depth': [3, 5, 6, 10, None],\n",
    "    'min_samples_split': [2, 5, 7, 10],\n",
    "    'min_samples_leaf': [1, 2, 3, 4]\n",
    "}\n",
    "dt_grid = GridSearchCV(DecisionTreeRegressor(), dt_params, cv=5, scoring='neg_mean_squared_error')\n",
    "dt_grid.fit(train_narendra_x, train_narendra_y)\n",
    "print(\"Best params\", dt_grid.best_params_)"
   ],
   "outputs": [
    {
     "name": "stdout",
     "output_type": "stream",
     "text": [
      "Best params {'max_depth': 3, 'min_samples_leaf': 4, 'min_samples_split': 5}\n"
     ]
    }
   ],
   "execution_count": 367
  },
  {
   "metadata": {
    "ExecuteTime": {
     "end_time": "2025-04-10T21:12:52.442983Z",
     "start_time": "2025-04-10T21:12:32.105926Z"
    }
   },
   "cell_type": "code",
   "source": [
    "rf_params = {\n",
    "    'n_estimators': [10, 50, 100],\n",
    "    'max_depth': [5, 7, 10, None],\n",
    "    'min_samples_split': [2, 3, 5],\n",
    "    'min_samples_leaf': [1, 2, 3]\n",
    "}\n",
    "\n",
    "rf_grid = GridSearchCV(RandomForestRegressor(), rf_params, cv=3, scoring='neg_mean_squared_error')\n",
    "rf_grid.fit(train_narendra_x, train_narendra_y)\n",
    "print(\"Best params\", rf_grid.best_params_)"
   ],
   "outputs": [
    {
     "name": "stdout",
     "output_type": "stream",
     "text": [
      "Best params {'max_depth': 7, 'min_samples_leaf': 1, 'min_samples_split': 5, 'n_estimators': 10}\n"
     ]
    }
   ],
   "execution_count": 368
  },
  {
   "metadata": {
    "ExecuteTime": {
     "end_time": "2025-04-10T21:12:53.053409Z",
     "start_time": "2025-04-10T21:12:52.587196Z"
    }
   },
   "cell_type": "code",
   "source": [
    "svm_params = {\n",
    "    'C': [0.1, 1, 2, 10],\n",
    "    'kernel': ['rbf', 'linear'],\n",
    "    'gamma': ['scale', 'auto']\n",
    "}\n",
    "\n",
    "svm_grid = GridSearchCV(SVR(), svm_params, cv=3, scoring='neg_mean_squared_error')\n",
    "svm_grid.fit(train_narendra_x, train_narendra_y[:, 0])\n",
    "print(\"Best SVM Params X:\", svm_grid.best_params_)\n",
    "\n",
    "svm_grid.fit(train_narendra_x, train_narendra_y[:, 1])\n",
    "print(\"Best SVM Params Y:\", svm_grid.best_params_)\n",
    "\n",
    "svm_grid.fit(train_narendra_x, train_narendra_y[:, 2])\n",
    "print(\"Best SVM Params Z:\", svm_grid.best_params_)"
   ],
   "outputs": [
    {
     "name": "stdout",
     "output_type": "stream",
     "text": [
      "Best SVM Params X: {'C': 0.1, 'gamma': 'scale', 'kernel': 'rbf'}\n",
      "Best SVM Params Y: {'C': 0.1, 'gamma': 'scale', 'kernel': 'rbf'}\n",
      "Best SVM Params Z: {'C': 0.1, 'gamma': 'scale', 'kernel': 'rbf'}\n"
     ]
    }
   ],
   "execution_count": 369
  },
  {
   "metadata": {},
   "cell_type": "markdown",
   "source": [
    "Завдання 5. *Оцінка моделей:*\n",
    "   \n",
    "   5.1 Оцініть кожну модель на валідаційному наборі за допомогою середньої квадратичної помилки (MSE) та R².\n",
    "  \n",
    "   5.2 Виконайте фінальну оцінку на тестовому наборі даних."
   ]
  },
  {
   "metadata": {
    "ExecuteTime": {
     "end_time": "2025-04-10T21:12:53.197483Z",
     "start_time": "2025-04-10T21:12:53.195559Z"
    }
   },
   "cell_type": "code",
   "source": "from sklearn.metrics import r2_score",
   "outputs": [],
   "execution_count": 370
  },
  {
   "metadata": {},
   "cell_type": "markdown",
   "source": "### Loranz"
  },
  {
   "metadata": {
    "ExecuteTime": {
     "end_time": "2025-04-10T21:12:53.341725Z",
     "start_time": "2025-04-10T21:12:53.339591Z"
    }
   },
   "cell_type": "code",
   "source": [
    "models_loranz = {\n",
    "    \"Linear Regression\": lr_loranz_model,\n",
    "    \"DecisionTree\": dt_loranz_model,\n",
    "    \"RandomForest\": rf_loranz_model,\n",
    "    \"SVM\" : {\n",
    "        \"SVM_X\": svm_loranz_model_x,\n",
    "        \"SVM_Y\": svm_loranz_model_y,\n",
    "        \"SVM_Z\": svm_loranz_model_z,\n",
    "    }\n",
    "}"
   ],
   "outputs": [],
   "execution_count": 371
  },
  {
   "metadata": {
    "ExecuteTime": {
     "end_time": "2025-04-10T21:12:54.515995Z",
     "start_time": "2025-04-10T21:12:53.484249Z"
    }
   },
   "cell_type": "code",
   "source": [
    "# validate data\n",
    "for name, model in models_loranz.items():\n",
    "    if isinstance(model, dict):\n",
    "        for index, (model_name, md) in enumerate(model.items()):\n",
    "            val_pred = md.predict(val_lorenz_x)\n",
    "            mse = mean_squared_error(val_lorenz_y[:, index], val_pred)\n",
    "            r2 = r2_score(val_lorenz_y[:, index], val_pred)\n",
    "            \n",
    "            report_loranz_list.loc[model_name, \"val_MSE\"] = mse\n",
    "            report_loranz_list.loc[model_name, \"val_R2\"] = r2\n",
    "            \n",
    "            print(f\"{model_name} | MSE: {mse}, R^2: {r2} \\n\")\n",
    "    else:\n",
    "        val_pred = model.predict(val_lorenz_x)\n",
    "        mse = mean_squared_error(val_lorenz_y, val_pred)\n",
    "        r2 = r2_score(val_lorenz_y, val_pred)\n",
    "        \n",
    "        report_loranz_list.loc[name, \"val_MSE\"] = mse\n",
    "        report_loranz_list.loc[name, \"val_R2\"] = r2\n",
    "        \n",
    "        print(f\"{name} | MSE: {mse}, R^2: {r2} \\n\")"
   ],
   "outputs": [
    {
     "name": "stdout",
     "output_type": "stream",
     "text": [
      "Linear Regression | MSE: 0.9727231795390258, R^2: -0.0007809822280440878 \n",
      "\n",
      "DecisionTree | MSE: 1.961247000894602, R^2: -1.0183479751153042 \n",
      "\n",
      "RandomForest | MSE: 1.1135385911543827, R^2: -0.14578488533507325 \n",
      "\n",
      "SVM_X | MSE: 0.9920696207776508, R^2: -0.004043961611624125 \n",
      "\n",
      "SVM_Y | MSE: 0.9573077387511263, R^2: -0.003964879969037272 \n",
      "\n",
      "SVM_Z | MSE: 0.9909756465731308, R^2: -0.01712308347791347 \n",
      "\n"
     ]
    }
   ],
   "execution_count": 372
  },
  {
   "metadata": {
    "ExecuteTime": {
     "end_time": "2025-04-10T21:12:55.693232Z",
     "start_time": "2025-04-10T21:12:54.658984Z"
    }
   },
   "cell_type": "code",
   "source": [
    "# Test data\n",
    "for name, model in models_loranz.items():\n",
    "    if isinstance(model, dict):\n",
    "        for index , (model_name, md) in enumerate(model.items()):\n",
    "            val_pred = md.predict(val_lorenz_x)\n",
    "            mse = mean_squared_error(val_lorenz_y[:, index], val_pred)\n",
    "            r2 = r2_score(val_lorenz_y[:, index], val_pred)\n",
    "            \n",
    "            report_loranz_list.loc[model_name, \"test_MSE\"] = mse\n",
    "            report_loranz_list.loc[model_name, \"test_R2\"] = r2\n",
    "            \n",
    "            print(f\"{model_name} | MSE: {mse}, R^2: {r2} \\n\")\n",
    "    else:\n",
    "        test_pred = model.predict(test_lorenz_x)\n",
    "        mse = mean_squared_error(test_lorenz_y, test_pred)\n",
    "        r2 = r2_score(test_lorenz_y, test_pred)\n",
    "        \n",
    "        report_loranz_list.loc[name, \"test_MSE\"] = mse\n",
    "        report_loranz_list.loc[name, \"test_R2\"] = r2\n",
    "        \n",
    "        print(f\"{name} | MSE: {mse}, R^2: {r2} \\n\")\n",
    "        "
   ],
   "outputs": [
    {
     "name": "stdout",
     "output_type": "stream",
     "text": [
      "Linear Regression | MSE: 0.9942280907331851, R^2: 4.425429989015258e-05 \n",
      "\n",
      "DecisionTree | MSE: 2.004341595265896, R^2: -1.0157804778076225 \n",
      "\n",
      "RandomForest | MSE: 1.129714800731992, R^2: -0.13592195648414962 \n",
      "\n",
      "SVM_X | MSE: 0.9920696207776508, R^2: -0.004043961611624125 \n",
      "\n",
      "SVM_Y | MSE: 0.9573077387511263, R^2: -0.003964879969037272 \n",
      "\n",
      "SVM_Z | MSE: 0.9909756465731308, R^2: -0.01712308347791347 \n",
      "\n"
     ]
    }
   ],
   "execution_count": 373
  },
  {
   "metadata": {},
   "cell_type": "markdown",
   "source": "### Нарендра-Пархтізаратхі"
  },
  {
   "metadata": {
    "ExecuteTime": {
     "end_time": "2025-04-10T21:12:55.838275Z",
     "start_time": "2025-04-10T21:12:55.836106Z"
    }
   },
   "cell_type": "code",
   "source": [
    "models_narendra = {\n",
    "    \"Linear Regression\": lr_model_narendra,\n",
    "    \"DecisionTree\": dt_model_narendra,\n",
    "    \"RandomForest\": rf_model_narendra,\n",
    "    \"SVM\": {\n",
    "        \"SVM_X\": svm_model_narendra_x,\n",
    "        \"SVM_Y\": svm_model_narendra_y,\n",
    "        \"SVM_Z\": svm_model_narendra_z,\n",
    "    }\n",
    "}"
   ],
   "outputs": [],
   "execution_count": 374
  },
  {
   "metadata": {
    "ExecuteTime": {
     "end_time": "2025-04-10T21:12:56.991793Z",
     "start_time": "2025-04-10T21:12:55.980796Z"
    }
   },
   "cell_type": "code",
   "source": [
    "# validate data\n",
    "for name, model in models_loranz.items():\n",
    "    if isinstance(model, dict):\n",
    "        for index , (model_name, md) in enumerate(model.items()):\n",
    "            val_pred = md.predict(val_lorenz_x)\n",
    "            mse = mean_squared_error(val_lorenz_y[:, index], val_pred)\n",
    "            r2 = r2_score(val_lorenz_y[:, index], val_pred)\n",
    "\n",
    "            report_narendra_list.loc[model_name, \"val_MSE\"] = mse\n",
    "            report_narendra_list.loc[model_name, \"val_R2\"] = r2\n",
    "            \n",
    "            print(f\"{model_name} | MSE: {mse}, R^2: {r2} \\n\")\n",
    "    else:\n",
    "        val_pred = model.predict(val_narendra_x)\n",
    "        mse = mean_squared_error(val_narendra_y, val_pred)\n",
    "        r2 = r2_score(val_narendra_y, val_pred)\n",
    "        \n",
    "        report_narendra_list.loc[name, \"val_MSE\"] = mse\n",
    "        report_narendra_list.loc[name, \"val_R2\"] = r2\n",
    "        \n",
    "        print(f\"{name} | MSE: {mse}, R^2: {r2} \\n\")\n",
    "        "
   ],
   "outputs": [
    {
     "name": "stdout",
     "output_type": "stream",
     "text": [
      "Linear Regression | MSE: 0.292986141288012, R^2: -0.014050519583311752 \n",
      "\n",
      "DecisionTree | MSE: 2.8234348400860116, R^2: -88.85866394193927 \n",
      "\n",
      "RandomForest | MSE: 0.32221487515857733, R^2: -0.39033409126132884 \n",
      "\n",
      "SVM_X | MSE: 0.9920696207776508, R^2: -0.004043961611624125 \n",
      "\n",
      "SVM_Y | MSE: 0.9573077387511263, R^2: -0.003964879969037272 \n",
      "\n",
      "SVM_Z | MSE: 0.9909756465731308, R^2: -0.01712308347791347 \n",
      "\n"
     ]
    }
   ],
   "execution_count": 375
  },
  {
   "metadata": {
    "ExecuteTime": {
     "end_time": "2025-04-10T21:12:58.135148Z",
     "start_time": "2025-04-10T21:12:57.134256Z"
    }
   },
   "cell_type": "code",
   "source": [
    "# Test data\n",
    "\n",
    "for name, model in models_loranz.items():\n",
    "    if isinstance(model, dict):\n",
    "        for index , (model_name, md) in enumerate(model.items()):\n",
    "            val_pred = md.predict(val_lorenz_x)\n",
    "            mse = mean_squared_error(val_lorenz_y[:, index], val_pred)\n",
    "            r2 = r2_score(val_lorenz_y[:, index], val_pred)\n",
    "            \n",
    "            report_narendra_list.loc[model_name, \"test_MSE\"] = mse\n",
    "            report_narendra_list.loc[model_name, \"test_R2\"] = r2\n",
    "            \n",
    "            print(f\"{model_name} | MSE: {mse}, R^2: {r2} \\n\")\n",
    "    else:\n",
    "        test_pred = model.predict(test_narendra_x)\n",
    "        mse = mean_squared_error(test_narendra_y, test_pred)\n",
    "        r2 = r2_score(test_narendra_y, test_pred)\n",
    "        \n",
    "        report_narendra_list.loc[name, \"test_MSE\"] = mse\n",
    "        report_narendra_list.loc[name, \"test_R2\"] = r2\n",
    "        \n",
    "        print(f\"{name} | MSE: {mse}, R^2: {r2} \\n\")"
   ],
   "outputs": [
    {
     "name": "stdout",
     "output_type": "stream",
     "text": [
      "Linear Regression | MSE: 0.07551403831228969, R^2: -0.0032770883692925246 \n",
      "\n",
      "DecisionTree | MSE: 2.6449119202352853, R^2: -63.21758933631974 \n",
      "\n",
      "RandomForest | MSE: 0.10358070781635992, R^2: -1.106633224887107 \n",
      "\n",
      "SVM_X | MSE: 0.9920696207776508, R^2: -0.004043961611624125 \n",
      "\n",
      "SVM_Y | MSE: 0.9573077387511263, R^2: -0.003964879969037272 \n",
      "\n",
      "SVM_Z | MSE: 0.9909756465731308, R^2: -0.01712308347791347 \n",
      "\n"
     ]
    }
   ],
   "execution_count": 376
  },
  {
   "metadata": {},
   "cell_type": "markdown",
   "source": [
    "Завдання 6. *Аналіз результатів:*\n",
    "   \n",
    "   6.1 Порівняйте результати всіх моделей. Створіть таблицю з метриками для кожної моделі.\n",
    "\n",
    "   6.2 Візуалізуйте результати прогнозування для кожної моделі (наприклад, графіки реальних значень проти прогнозованих).\n"
   ]
  },
  {
   "metadata": {
    "ExecuteTime": {
     "end_time": "2025-04-10T21:12:58.282497Z",
     "start_time": "2025-04-10T21:12:58.277342Z"
    }
   },
   "cell_type": "code",
   "source": "report_loranz_list",
   "outputs": [
    {
     "data": {
      "text/plain": [
       "                        MSE   val_MSE    val_R2  test_MSE   test_R2\n",
       "Linear Regression  0.972723  0.972723 -0.000781  0.994228  0.000044\n",
       "DecisionTree       1.961247  1.961247 -1.018348  2.004342  -1.01578\n",
       "RandomForest       1.113539  1.113539 -0.145785  1.129715 -0.135922\n",
       "SVM_X               0.99207   0.99207 -0.004044   0.99207 -0.004044\n",
       "SVM_Y              0.957308  0.957308 -0.003965  0.957308 -0.003965\n",
       "SVM_Z              0.990976  0.990976 -0.017123  0.990976 -0.017123"
      ],
      "text/html": [
       "<div>\n",
       "<style scoped>\n",
       "    .dataframe tbody tr th:only-of-type {\n",
       "        vertical-align: middle;\n",
       "    }\n",
       "\n",
       "    .dataframe tbody tr th {\n",
       "        vertical-align: top;\n",
       "    }\n",
       "\n",
       "    .dataframe thead th {\n",
       "        text-align: right;\n",
       "    }\n",
       "</style>\n",
       "<table border=\"1\" class=\"dataframe\">\n",
       "  <thead>\n",
       "    <tr style=\"text-align: right;\">\n",
       "      <th></th>\n",
       "      <th>MSE</th>\n",
       "      <th>val_MSE</th>\n",
       "      <th>val_R2</th>\n",
       "      <th>test_MSE</th>\n",
       "      <th>test_R2</th>\n",
       "    </tr>\n",
       "  </thead>\n",
       "  <tbody>\n",
       "    <tr>\n",
       "      <th>Linear Regression</th>\n",
       "      <td>0.972723</td>\n",
       "      <td>0.972723</td>\n",
       "      <td>-0.000781</td>\n",
       "      <td>0.994228</td>\n",
       "      <td>0.000044</td>\n",
       "    </tr>\n",
       "    <tr>\n",
       "      <th>DecisionTree</th>\n",
       "      <td>1.961247</td>\n",
       "      <td>1.961247</td>\n",
       "      <td>-1.018348</td>\n",
       "      <td>2.004342</td>\n",
       "      <td>-1.01578</td>\n",
       "    </tr>\n",
       "    <tr>\n",
       "      <th>RandomForest</th>\n",
       "      <td>1.113539</td>\n",
       "      <td>1.113539</td>\n",
       "      <td>-0.145785</td>\n",
       "      <td>1.129715</td>\n",
       "      <td>-0.135922</td>\n",
       "    </tr>\n",
       "    <tr>\n",
       "      <th>SVM_X</th>\n",
       "      <td>0.99207</td>\n",
       "      <td>0.99207</td>\n",
       "      <td>-0.004044</td>\n",
       "      <td>0.99207</td>\n",
       "      <td>-0.004044</td>\n",
       "    </tr>\n",
       "    <tr>\n",
       "      <th>SVM_Y</th>\n",
       "      <td>0.957308</td>\n",
       "      <td>0.957308</td>\n",
       "      <td>-0.003965</td>\n",
       "      <td>0.957308</td>\n",
       "      <td>-0.003965</td>\n",
       "    </tr>\n",
       "    <tr>\n",
       "      <th>SVM_Z</th>\n",
       "      <td>0.990976</td>\n",
       "      <td>0.990976</td>\n",
       "      <td>-0.017123</td>\n",
       "      <td>0.990976</td>\n",
       "      <td>-0.017123</td>\n",
       "    </tr>\n",
       "  </tbody>\n",
       "</table>\n",
       "</div>"
      ]
     },
     "execution_count": 377,
     "metadata": {},
     "output_type": "execute_result"
    }
   ],
   "execution_count": 377
  },
  {
   "metadata": {
    "ExecuteTime": {
     "end_time": "2025-04-10T21:12:58.457379Z",
     "start_time": "2025-04-10T21:12:58.451803Z"
    }
   },
   "cell_type": "code",
   "source": "report_narendra_list",
   "outputs": [
    {
     "data": {
      "text/plain": [
       "                        MSE   val_MSE     val_R2  test_MSE    test_R2\n",
       "Linear Regression  0.292746  0.292986  -0.014051  0.075514  -0.003277\n",
       "DecisionTree       0.292747  2.823435 -88.858664  2.644912 -63.217589\n",
       "RandomForest       0.292728  0.322215  -0.390334  0.103581  -1.106633\n",
       "SVM_X              0.013877   0.99207  -0.004044   0.99207  -0.004044\n",
       "SVM_Y              0.717007  0.957308  -0.003965  0.957308  -0.003965\n",
       "SVM_Z              0.172416  0.990976  -0.017123  0.990976  -0.017123"
      ],
      "text/html": [
       "<div>\n",
       "<style scoped>\n",
       "    .dataframe tbody tr th:only-of-type {\n",
       "        vertical-align: middle;\n",
       "    }\n",
       "\n",
       "    .dataframe tbody tr th {\n",
       "        vertical-align: top;\n",
       "    }\n",
       "\n",
       "    .dataframe thead th {\n",
       "        text-align: right;\n",
       "    }\n",
       "</style>\n",
       "<table border=\"1\" class=\"dataframe\">\n",
       "  <thead>\n",
       "    <tr style=\"text-align: right;\">\n",
       "      <th></th>\n",
       "      <th>MSE</th>\n",
       "      <th>val_MSE</th>\n",
       "      <th>val_R2</th>\n",
       "      <th>test_MSE</th>\n",
       "      <th>test_R2</th>\n",
       "    </tr>\n",
       "  </thead>\n",
       "  <tbody>\n",
       "    <tr>\n",
       "      <th>Linear Regression</th>\n",
       "      <td>0.292746</td>\n",
       "      <td>0.292986</td>\n",
       "      <td>-0.014051</td>\n",
       "      <td>0.075514</td>\n",
       "      <td>-0.003277</td>\n",
       "    </tr>\n",
       "    <tr>\n",
       "      <th>DecisionTree</th>\n",
       "      <td>0.292747</td>\n",
       "      <td>2.823435</td>\n",
       "      <td>-88.858664</td>\n",
       "      <td>2.644912</td>\n",
       "      <td>-63.217589</td>\n",
       "    </tr>\n",
       "    <tr>\n",
       "      <th>RandomForest</th>\n",
       "      <td>0.292728</td>\n",
       "      <td>0.322215</td>\n",
       "      <td>-0.390334</td>\n",
       "      <td>0.103581</td>\n",
       "      <td>-1.106633</td>\n",
       "    </tr>\n",
       "    <tr>\n",
       "      <th>SVM_X</th>\n",
       "      <td>0.013877</td>\n",
       "      <td>0.99207</td>\n",
       "      <td>-0.004044</td>\n",
       "      <td>0.99207</td>\n",
       "      <td>-0.004044</td>\n",
       "    </tr>\n",
       "    <tr>\n",
       "      <th>SVM_Y</th>\n",
       "      <td>0.717007</td>\n",
       "      <td>0.957308</td>\n",
       "      <td>-0.003965</td>\n",
       "      <td>0.957308</td>\n",
       "      <td>-0.003965</td>\n",
       "    </tr>\n",
       "    <tr>\n",
       "      <th>SVM_Z</th>\n",
       "      <td>0.172416</td>\n",
       "      <td>0.990976</td>\n",
       "      <td>-0.017123</td>\n",
       "      <td>0.990976</td>\n",
       "      <td>-0.017123</td>\n",
       "    </tr>\n",
       "  </tbody>\n",
       "</table>\n",
       "</div>"
      ]
     },
     "execution_count": 378,
     "metadata": {},
     "output_type": "execute_result"
    }
   ],
   "execution_count": 378
  },
  {
   "metadata": {
    "ExecuteTime": {
     "end_time": "2025-04-10T21:12:58.995318Z",
     "start_time": "2025-04-10T21:12:58.993816Z"
    }
   },
   "cell_type": "code",
   "source": "",
   "outputs": [],
   "execution_count": null
  }
 ]
}
